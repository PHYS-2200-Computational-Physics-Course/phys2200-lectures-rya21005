{
 "cells": [
  {
   "cell_type": "code",
   "execution_count": null,
   "id": "7b5393e0-9172-4c2f-a507-7aaf684b6a3c",
   "metadata": {},
   "outputs": [],
   "source": [
    "\n",
    "\"\"\"\n",
    "    t, y = myeulersv(fun, a, b, n, y1)\n",
    "\n",
    "Solve IVP y' = fun(t, y), a <= t <= b, y(a) = y1 using Euler's method.\n",
    "Use the integration step h = (b - a)/(n - 1). Return a vector of values\n",
    "of the independent variable t_i, and a matrix of correspondinig values\n",
    "of the solution, y(t_i)\n",
    "\"\"\"\n",
    "function myeulersv(fun, a, b, n, y1)\n",
    "    t = range(a, b, n)\n",
    "    neqs = length(y1)\n",
    "    dydt = zeros(neqs) # allocate the vector of derivatives\n",
    "    y = zeros(neqs, n) # allocate the matrix of solutions\n",
    "    h = t[2] - t[1]\n",
    "    y[:, 1] = y1\n",
    "    for i = 1:n-1\n",
    "        k1 = h*fun(t[i], y[:, i])\n",
    "        y[:, i+1] = y[:, i] + k1\n",
    "    end\n",
    "    return t, y\n",
    "end"
   ]
  },
  {
   "cell_type": "code",
   "execution_count": null,
   "id": "be26ef05-5a71-4f1d-9a57-50478f2b2931",
   "metadata": {},
   "outputs": [],
   "source": [
    "\n",
    "\"\"\"\n",
    "    dydt = funv(t, y)\n",
    "\n",
    "Right hand side of the oscillator with friction\n",
    "\"\"\"\n",
    "function frict(t, y)\n",
    "    dydt = zeros(2)\n",
    "    dydt[1] = y[2]\n",
    "    dydt[2] = -y[1] - y[2]\n",
    "    return dydt\n",
    "end"
   ]
  },
  {
   "cell_type": "code",
   "execution_count": null,
   "id": "3825277a-21cc-4225-a132-ec5e3f9f41b0",
   "metadata": {},
   "outputs": [],
   "source": [
    "\n",
    "a = 0\n",
    "b = 10\n",
    "n = 100\n",
    "y1 = [1.0, 0.0]"
   ]
  },
  {
   "cell_type": "code",
   "execution_count": null,
   "id": "a5aac886-2100-4d25-8ebe-cd725d8557b7",
   "metadata": {},
   "outputs": [],
   "source": [
    "\n",
    "t, y = myeulersv(frict, a, b, n, y1)"
   ]
  },
  {
   "cell_type": "code",
   "execution_count": null,
   "id": "a8be876d-1086-4633-8f3d-714efea36497",
   "metadata": {},
   "outputs": [],
   "source": [
    "\n",
    "using PyPlot"
   ]
  },
  {
   "cell_type": "code",
   "execution_count": null,
   "id": "f5fbc3ba-5e39-49d4-b862-c438ad66a904",
   "metadata": {},
   "outputs": [],
   "source": [
    "\n",
    "plot(t, y[1, :], label=\"coordinate\")\n",
    "plot(t, y[2, :], label=\"velocity\")\n",
    "grid(true)\n",
    "title(\"Harmonic Oscillator With Friction\")\n",
    "xlabel(\"time\")\n",
    "legend()"
   ]
  },
  {
   "cell_type": "code",
   "execution_count": null,
   "id": "85c9289f-8000-4fc8-b92c-f7e6dc0ae5c1",
   "metadata": {},
   "outputs": [],
   "source": [
    "\n",
    "plot(y[1, :], y[2, :])\n",
    "grid(true)\n",
    "scatter(y1...)\n",
    "title(\"Harmonic Oscillator With Friction\")\n",
    "xlabel(\"coordinate\")\n",
    "ylabel(\"velocity\")"
   ]
  },
  {
   "cell_type": "code",
   "execution_count": null,
   "id": "01fdc9f0-1909-4ad1-aba1-a1d3098bc931",
   "metadata": {},
   "outputs": [],
   "source": []
  }
 ],
 "metadata": {
  "kernelspec": {
   "display_name": "Julia 1.11.6",
   "language": "julia",
   "name": "julia-1.11"
  },
  "language_info": {
   "file_extension": ".jl",
   "mimetype": "application/julia",
   "name": "julia",
   "version": "1.11.6"
  }
 },
 "nbformat": 4,
 "nbformat_minor": 5
}
