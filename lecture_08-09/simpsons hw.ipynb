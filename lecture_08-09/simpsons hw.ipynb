{
 "cells": [
  {
   "cell_type": "code",
   "execution_count": null,
   "id": "6b32c3b5-a92e-4265-a66d-7cfe2d6a0f88",
   "metadata": {},
   "outputs": [],
   "source": [
    "\n",
    "function mysimpsons(fun, a, b, n)\n",
    "    h = (b - a)/(n - 1)\n",
    "    s1 = fun(a) + fun(b)\n",
    "    s4 = 0.0\n",
    "    for i = 2:2:(n-2)\n",
    "        s4 += fun(a + h(i-1))\n",
    "    end\n",
    "    return h/3*(s1+4*s4+2*s2)\n",
    "end"
   ]
  },
  {
   "cell_type": "code",
   "execution_count": null,
   "id": "72038337-e0a8-4193-a9dc-4d73f45ca900",
   "metadata": {},
   "outputs": [],
   "source": [
    "s2 = 0.0\n",
    "for i = 3:2:(n-1)\n",
    "    s2 += fun(a + h(i-1))\n",
    "end"
   ]
  },
  {
   "cell_type": "code",
   "execution_count": null,
   "id": "81f9670e-11e6-4ce4-94b4-001c4f093307",
   "metadata": {},
   "outputs": [],
   "source": [
    "\n",
    "function mysimpsons(fun, a, b, n)\n",
    "    if iseven(n) || n<3\n",
    "        return Inf\n",
    "    end\n",
    "    return 0\n",
    "end"
   ]
  },
  {
   "cell_type": "code",
   "execution_count": null,
   "id": "1e77aa16-a7ed-4285-a509-f5f19594f829",
   "metadata": {},
   "outputs": [],
   "source": [
    "mysimpsons(1)"
   ]
  },
  {
   "cell_type": "code",
   "execution_count": null,
   "id": "545aa9ce-c8ab-4ae4-831f-d0407e82d6f4",
   "metadata": {},
   "outputs": [],
   "source": []
  }
 ],
 "metadata": {
  "kernelspec": {
   "display_name": "Julia 1.11.6",
   "language": "julia",
   "name": "julia-1.11"
  },
  "language_info": {
   "file_extension": ".jl",
   "mimetype": "application/julia",
   "name": "julia",
   "version": "1.11.6"
  }
 },
 "nbformat": 4,
 "nbformat_minor": 5
}
