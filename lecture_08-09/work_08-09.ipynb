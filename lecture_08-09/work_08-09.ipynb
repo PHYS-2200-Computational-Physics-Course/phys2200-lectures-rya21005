{
 "cells": [
  {
   "cell_type": "code",
   "execution_count": null,
   "id": "cfc15a1f-38e6-43db-bb84-71ce84fc8f84",
   "metadata": {},
   "outputs": [],
   "source": [
    "\n",
    "\"\"\"\n",
    "    ans = mytrapezoids(fun, a, b, n)\n",
    "\n",
    "Numerically evaluate the integral int_a^b fun(x) dx using the\n",
    "trapezoidal rule: I = h/2*(f_1 + 2f_2 + ... + 2f_{n-1} + f_n),\n",
    "where h = (b - a)/(n - 1), x_i = a + (i - 1)*h, f_i = fun(x_i).\n",
    "\"\"\"\n",
    "function mytrapezoids(fun, a, b, n)\n",
    "    h = (b - a)/(n-1)\n",
    "    s1 = fun(a) + fun(b)\n",
    "    s2 = 0.0\n",
    "    for i = 2:(n-1)\n",
    "        s2 += fun(a + h*(i-1))\n",
    "    end\n",
    "    return h/2*(s1 + 2*s2)\n",
    "end"
   ]
  },
  {
   "cell_type": "code",
   "execution_count": null,
   "id": "6b6c82b3-d4bc-499a-96c3-5886f80b4bc3",
   "metadata": {},
   "outputs": [],
   "source": [
    "\n",
    "fun1(x) = 1/x\n",
    "a1 = 1.0\n",
    "b1 = 2.0\n",
    "np1 = 20\n",
    "exact1 = log(2)"
   ]
  },
  {
   "cell_type": "code",
   "execution_count": null,
   "id": "d5fc1c6c-2663-4f25-b97b-bd493a4f1214",
   "metadata": {},
   "outputs": [],
   "source": [
    "\n",
    "result1 = mytrapezoids(fun1, a1, b1, np1)"
   ]
  },
  {
   "cell_type": "code",
   "execution_count": null,
   "id": "e023e3e4-18a8-4cce-a857-bb14af8394df",
   "metadata": {},
   "outputs": [],
   "source": [
    "\n",
    "round(abs(result1 - exact1), sigdigits = 1)"
   ]
  },
  {
   "cell_type": "code",
   "execution_count": null,
   "id": "01feac61-b204-4995-97b0-a55309dbe932",
   "metadata": {},
   "outputs": [],
   "source": [
    "\n",
    "fun2(x) = exp(x)\n",
    "a2 = 0.0\n",
    "b2 = 1.0\n",
    "np2 = 100\n",
    "exact2 = exp(1) - 1"
   ]
  },
  {
   "cell_type": "code",
   "execution_count": null,
   "id": "94eb379f-0f24-40ab-b308-06eab0946fc1",
   "metadata": {},
   "outputs": [],
   "source": [
    "\n",
    "result2 = mytrapezoids(fun2, a2, b2, np2)"
   ]
  },
  {
   "cell_type": "code",
   "execution_count": null,
   "id": "be70810c-064b-4bf1-856c-0bb083cb6253",
   "metadata": {},
   "outputs": [],
   "source": [
    "\n",
    "round(abs(result2 - exact2), sigdigits=1)"
   ]
  },
  {
   "cell_type": "code",
   "execution_count": null,
   "id": "2ee3238f-39b9-45c2-9e35-36e3f1e3d7d6",
   "metadata": {},
   "outputs": [],
   "source": [
    "\n",
    "fun3(x) = sin(x)\n",
    "a3 = 0.0\n",
    "b3 = pi\n",
    "exact3 = 2.0"
   ]
  },
  {
   "cell_type": "code",
   "execution_count": null,
   "id": "54c63106-1b34-4d06-b294-c57d7eb40cb5",
   "metadata": {},
   "outputs": [],
   "source": [
    "\n",
    "ndp = 10\n",
    "hh = zeros(ndp)         # creates an array of ndp elements\n",
    "abserror = zeros(ndp);"
   ]
  },
  {
   "cell_type": "code",
   "execution_count": null,
   "id": "7a176345-9c9e-4287-a64a-2128d85eba63",
   "metadata": {},
   "outputs": [],
   "source": [
    "\n",
    "for i = 1:ndp\n",
    "    np = 2^i + 1\n",
    "    hh[i] = (b3 - a3)/(np - 1)\n",
    "    abserror[i] = abs(mytrapezoids(fun3, a3, b3, np) - exact3)\n",
    "end"
   ]
  },
  {
   "cell_type": "code",
   "execution_count": null,
   "id": "25e195eb-81cd-408f-935f-b8a24a7ba469",
   "metadata": {},
   "outputs": [],
   "source": [
    "\n",
    "abserror"
   ]
  },
  {
   "cell_type": "code",
   "execution_count": null,
   "id": "3c1f74f9-150c-430e-89e4-c329c594b76c",
   "metadata": {},
   "outputs": [],
   "source": [
    "\n",
    "using PyPlot"
   ]
  },
  {
   "cell_type": "code",
   "execution_count": null,
   "id": "228c34c0-c9a3-4d44-a7fd-0c363a03a62c",
   "metadata": {},
   "outputs": [],
   "source": [
    "\n",
    "loglog(hh, abserror, marker=\".\", label=\"Numerical Experiment\")\n",
    "loglog(hh, hh.^2, linestyle=\"dashed\", label=L\"h^2\")\n",
    "grid(true)\n",
    "xlabel(\"h\")\n",
    "ylabel(\"absolute error\")\n",
    "title(\"Error of Trapezoidal Formula\")\n",
    "legend();"
   ]
  },
  {
   "cell_type": "code",
   "execution_count": null,
   "id": "11efba17-fc27-4e30-a1b5-32447b216c73",
   "metadata": {},
   "outputs": [],
   "source": [
    "\n",
    "function mytrapezoids2(fv, h)\n",
    "    return h/2*(fv[1] + fv[end] + 2*sum(fv[2:(end-1)]))\n",
    "end"
   ]
  },
  {
   "cell_type": "code",
   "execution_count": null,
   "id": "d09c8a65-7630-4808-81ca-e9bba7d1aedc",
   "metadata": {},
   "outputs": [],
   "source": [
    "\n",
    "x1 = range(a1, b1, np1)\n",
    "fv1 = fun1.(x1)\n",
    "h1 = x1[2] - x1[1]\n",
    "round(abs(mytrapezoids2(fv1, h1) - exact1), sigdigits = 1)"
   ]
  },
  {
   "cell_type": "code",
   "execution_count": null,
   "id": "12b963b4-a94e-404f-9cb3-747c5ee4c431",
   "metadata": {},
   "outputs": [],
   "source": [
    "\n",
    "x2 = range(a2, b2, np2)\n",
    "fv2 = fun2.(x2)\n",
    "h2 = x2[2] - x2[1]\n",
    "round(abs(mytrapezoids2(fv2, h2) - exact2), sigdigits = 1)"
   ]
  },
  {
   "cell_type": "code",
   "execution_count": null,
   "id": "eb3fa590-8529-4f50-bb3b-80636018bc13",
   "metadata": {},
   "outputs": [],
   "source": [
    "\n",
    "function simpsons2(fun, a, b, n)\n",
    "    x = range(a, b, n)\n",
    "    fv = fun.(x)\n",
    "    h = x[2] - x[1]\n",
    "    th = mytrapezoids2(fv, h)\n",
    "    t2h = mytrapezoids2(fv[1:2:end], 2*h)\n",
    "    simp = 1/3*(4*th - t2h)\n",
    "    return simp\n",
    "end"
   ]
  },
  {
   "cell_type": "code",
   "execution_count": null,
   "id": "fbc8f57b-9887-40cb-bdf3-10df7771a211",
   "metadata": {},
   "outputs": [],
   "source": [
    "\n",
    "nps1 = 19\n",
    "round(abs(simpsons2(fun1, a1, b1, nps1) - exact1), sigdigits = 1)"
   ]
  },
  {
   "cell_type": "code",
   "execution_count": null,
   "id": "d60522ea-e4ce-4e22-9a54-10813906fed4",
   "metadata": {},
   "outputs": [],
   "source": [
    "\n",
    "nps2 = 99\n",
    "round(abs(simpsons2(fun2, a2, b2, nps2) - exact2), sigdigits = 1)"
   ]
  },
  {
   "cell_type": "code",
   "execution_count": null,
   "id": "19852b13-cfaf-421c-b200-03b558ef705b",
   "metadata": {},
   "outputs": [],
   "source": [
    "\n",
    "nn = 500\n",
    "round(abs(mytrapezoids(fun1, a1, b1, nn) - exact1), sigdigits = 1)"
   ]
  },
  {
   "cell_type": "code",
   "execution_count": null,
   "id": "f87a772f-e1c3-45f1-8c27-557189d23ffe",
   "metadata": {},
   "outputs": [],
   "source": []
  }
 ],
 "metadata": {
  "kernelspec": {
   "display_name": "Julia 1.11.6",
   "language": "julia",
   "name": "julia-1.11"
  },
  "language_info": {
   "file_extension": ".jl",
   "mimetype": "application/julia",
   "name": "julia",
   "version": "1.11.6"
  }
 },
 "nbformat": 4,
 "nbformat_minor": 5
}
