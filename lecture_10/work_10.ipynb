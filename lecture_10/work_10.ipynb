{
 "cells": [
  {
   "cell_type": "code",
   "execution_count": null,
   "id": "db877c6e-c4e9-4751-a2e2-777c717074e3",
   "metadata": {},
   "outputs": [],
   "source": [
    "\n",
    "function mybasel(N)\n",
    "    s = 0.0\n",
    "    for n = 1:N\n",
    "        s += 1/n^2\n",
    "    end\n",
    "    return s\n",
    "end"
   ]
  },
  {
   "cell_type": "code",
   "execution_count": null,
   "id": "1317d8ec-6f09-48e8-9a99-fb26f0eb8602",
   "metadata": {},
   "outputs": [],
   "source": [
    "\n",
    "round(abs(mybasel(2000) - pi^2/6), sigdigits=1)"
   ]
  },
  {
   "cell_type": "code",
   "execution_count": null,
   "id": "74855ab4-1fdc-4d13-899c-94bd0d48ad06",
   "metadata": {},
   "outputs": [],
   "source": [
    "\n",
    "function myrichardson(N)\n",
    "    s1 = mybasel(N)\n",
    "    s2 = mybasel(2*N)\n",
    "    return 2*s2 - s1\n",
    "end"
   ]
  },
  {
   "cell_type": "code",
   "execution_count": null,
   "id": "3ad7b418-44f4-4739-9cca-5f36d5011057",
   "metadata": {},
   "outputs": [],
   "source": [
    "\n",
    "round(abs(myrichardson(1000) - pi^2/6), sigdigits=1)"
   ]
  },
  {
   "cell_type": "code",
   "execution_count": null,
   "id": "4b43d726-0022-47dc-a4a8-c7831e45bcdf",
   "metadata": {},
   "outputs": [],
   "source": [
    "] add QuadGK"
   ]
  },
  {
   "cell_type": "code",
   "execution_count": null,
   "id": "0fa817b4-4ab8-473a-b330-f5d2ceb1aee5",
   "metadata": {},
   "outputs": [],
   "source": [
    "\n",
    "using QuadGK"
   ]
  },
  {
   "cell_type": "code",
   "execution_count": null,
   "id": "41acc9b2-da7f-4a57-a405-d4ec51f49dc5",
   "metadata": {},
   "outputs": [],
   "source": [
    "fun1(x) = 1/sqrt(x)"
   ]
  },
  {
   "cell_type": "code",
   "execution_count": null,
   "id": "7570ab4f-bbbc-47ba-bd73-da29c6c3b430",
   "metadata": {},
   "outputs": [],
   "source": [
    "\n",
    "round(quadgk(fun1, 0, 1)[1], sigdigits=5)"
   ]
  },
  {
   "cell_type": "code",
   "execution_count": null,
   "id": "b5d7a796-123a-4c24-9448-514c0c100e8c",
   "metadata": {},
   "outputs": [],
   "source": [
    "\n",
    "fun2(x) = exp(-x) * log(x)"
   ]
  },
  {
   "cell_type": "code",
   "execution_count": null,
   "id": "bdb2fb76-92c0-4073-bd76-5c249f8740da",
   "metadata": {},
   "outputs": [],
   "source": [
    "\n",
    "quadgk(fun2, 0, Inf)"
   ]
  },
  {
   "cell_type": "code",
   "execution_count": null,
   "id": "259d964e-25eb-4456-a699-151c0f9931a2",
   "metadata": {},
   "outputs": [],
   "source": []
  }
 ],
 "metadata": {
  "kernelspec": {
   "display_name": "Julia 1.11.6",
   "language": "julia",
   "name": "julia-1.11"
  },
  "language_info": {
   "file_extension": ".jl",
   "mimetype": "application/julia",
   "name": "julia",
   "version": "1.11.6"
  }
 },
 "nbformat": 4,
 "nbformat_minor": 5
}
