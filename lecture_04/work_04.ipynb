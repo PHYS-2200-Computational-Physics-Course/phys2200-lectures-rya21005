{
 "cells": [
  {
   "cell_type": "code",
   "execution_count": null,
   "id": "b54ab6fc-cb8a-456f-a746-053ebc4ffdda",
   "metadata": {},
   "outputs": [],
   "source": [
    "\n",
    "# ] add DelimitedFiles\n",
    "using DelimitedFiles"
   ]
  },
  {
   "cell_type": "code",
   "execution_count": null,
   "id": "85245308-4ddb-4bee-9851-be7e7ebe09b0",
   "metadata": {},
   "outputs": [],
   "source": [
    "\n",
    "url = \"https://www.phys.uconn.edu/~rozman/Courses/P2200_25F/downloads/trinity-test.data\""
   ]
  },
  {
   "cell_type": "code",
   "execution_count": null,
   "id": "f300a0ff-6270-49ad-b9f4-d38566c39a7c",
   "metadata": {},
   "outputs": [],
   "source": [
    "\n",
    "observations = download(url)"
   ]
  },
  {
   "cell_type": "code",
   "execution_count": null,
   "id": "f6808783-2e28-4e94-8f11-c74f32682a7d",
   "metadata": {
    "scrolled": true
   },
   "outputs": [],
   "source": [
    "\n",
    "dat = readdlm(observations, comments=true, comment_char='#')"
   ]
  },
  {
   "cell_type": "code",
   "execution_count": null,
   "id": "b7bf57c3-9cd7-4294-9b49-46dc9375da3a",
   "metadata": {
    "scrolled": true
   },
   "outputs": [],
   "source": [
    "\n",
    "time = dat[:,1]"
   ]
  },
  {
   "cell_type": "code",
   "execution_count": null,
   "id": "d32ae9d4-8dc2-4681-82b3-80bd031457b7",
   "metadata": {
    "scrolled": true
   },
   "outputs": [],
   "source": [
    "\n",
    "radius = dat[:,2]"
   ]
  },
  {
   "cell_type": "code",
   "execution_count": null,
   "id": "041b5145-0aab-4f8c-9923-e6d0df2f536b",
   "metadata": {},
   "outputs": [],
   "source": [
    "\n",
    "using PyPlot"
   ]
  },
  {
   "cell_type": "code",
   "execution_count": null,
   "id": "2172ed6b-a635-446b-88dd-fc88e2776000",
   "metadata": {},
   "outputs": [],
   "source": [
    "\n",
    "plot(time, radius)"
   ]
  },
  {
   "cell_type": "code",
   "execution_count": null,
   "id": "c2408adb-377a-46e2-984f-9a08ff4be1d5",
   "metadata": {},
   "outputs": [],
   "source": [
    "\n",
    "loglog(time, radius, \"bo\", label=\"measurements\")\n",
    "grid(true)\n",
    "xlabel(\"time\")\n",
    "ylabel(\"radius\")\n",
    "title(\"Trinity Test Data\")\n",
    "legend()"
   ]
  },
  {
   "cell_type": "code",
   "execution_count": null,
   "id": "561deac7-4211-455a-9bc9-ca22543bc6d6",
   "metadata": {},
   "outputs": [],
   "source": [
    "nm = length(time[3:end])"
   ]
  },
  {
   "cell_type": "code",
   "execution_count": null,
   "id": "463881db-3954-4b26-8974-b8d8f3abd055",
   "metadata": {},
   "outputs": [],
   "source": [
    "\n",
    "tlogbar = sum(log.(time[3:end]))/nm #slice first 2 data points by adding [3:end]"
   ]
  },
  {
   "cell_type": "code",
   "execution_count": null,
   "id": "f3b0c630-52a2-42a8-b3ed-92144742b898",
   "metadata": {},
   "outputs": [],
   "source": [
    "\n",
    "rlogbar = sum(log.(radius[3:end]))/nm"
   ]
  },
  {
   "cell_type": "code",
   "execution_count": null,
   "id": "7eb24ee1-2796-45ae-8f7a-16435aa938cd",
   "metadata": {},
   "outputs": [],
   "source": [
    "\n",
    "alphalogbar = rlogbar - 2/5*tlogbar"
   ]
  },
  {
   "cell_type": "code",
   "execution_count": null,
   "id": "2d6a745c-5c17-474e-85c6-937f5b5d7da5",
   "metadata": {},
   "outputs": [],
   "source": [
    "\n",
    "const scale = 1.0e6   # Extra factor due to measuring time in ms\n",
    "const rho = 1.2       # Density of air in kg/m^3 at T = 20 C\n",
    "const tnt = 4.184e12; # J per 1 kt of TNT"
   ]
  },
  {
   "cell_type": "code",
   "execution_count": null,
   "id": "9c44456e-24e8-450b-9aa5-7686ea2fc08f",
   "metadata": {},
   "outputs": [],
   "source": [
    "\n",
    "alpha = exp(alphalogbar)\n",
    "println(\"α = $(round(alpha, sigdigits=4))\")"
   ]
  },
  {
   "cell_type": "code",
   "execution_count": null,
   "id": "8c61e5d6-5fda-44d5-bba5-89d4e0e4f11f",
   "metadata": {},
   "outputs": [],
   "source": [
    "\n",
    "energyJ = scale * alpha^5 * rho \n",
    "println(\"E = $(round(energyJ, sigdigits=3)) Joules\")"
   ]
  },
  {
   "cell_type": "code",
   "execution_count": null,
   "id": "b3a4ff09-ac69-4d17-ab6a-8496391b7e8e",
   "metadata": {},
   "outputs": [],
   "source": [
    "\n",
    "energyT = energyJ / tnt  # Equivalent amount of TNT in kilotons\n",
    "println(\"E = $(round(energyT, sigdigits=3)) kilotons of TNT\")"
   ]
  },
  {
   "cell_type": "code",
   "execution_count": null,
   "id": "671760a0-29ea-49d1-a077-7a7e68a48c6e",
   "metadata": {},
   "outputs": [],
   "source": [
    "\n",
    "rad(t, alpha) = alpha * t^(2/5) ;"
   ]
  },
  {
   "cell_type": "code",
   "execution_count": null,
   "id": "aa025204-00d1-46f6-beab-f5ea2e445e13",
   "metadata": {},
   "outputs": [],
   "source": [
    "\n",
    "loglog(time, radius, \"bo\", label=\"measurements\")\n",
    "loglog(time, rad.(time, alpha), \"-\", label=\"theory\")\n",
    "grid(true)\n",
    "xlabel(\"time\")\n",
    "ylabel(\"radius\")\n",
    "title(\"Trinity Test Data\")\n",
    "legend()"
   ]
  },
  {
   "cell_type": "code",
   "execution_count": null,
   "id": "18f58e44-8f12-4424-98de-24094360cfcf",
   "metadata": {},
   "outputs": [],
   "source": []
  }
 ],
 "metadata": {
  "kernelspec": {
   "display_name": "Julia 1.11.6",
   "language": "julia",
   "name": "julia-1.11"
  },
  "language_info": {
   "file_extension": ".jl",
   "mimetype": "application/julia",
   "name": "julia",
   "version": "1.11.6"
  }
 },
 "nbformat": 4,
 "nbformat_minor": 5
}
