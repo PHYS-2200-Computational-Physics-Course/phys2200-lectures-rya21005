{
 "cells": [
  {
   "cell_type": "raw",
   "id": "66036351-9a68-4cad-bdc9-2fab3fbab694",
   "metadata": {},
   "source": [
    "\n",
    "function mybasel(N)\n",
    "    s = 0.0\n",
    "    for n = 1:N\n",
    "        s += 1/n^2\n",
    "    end\n",
    "    return s\n",
    "end"
   ]
  },
  {
   "cell_type": "code",
   "execution_count": null,
   "id": "1317d8ec-6f09-48e8-9a99-fb26f0eb8602",
   "metadata": {},
   "outputs": [],
   "source": [
    "\n",
    "round(abs(mybasel(2000) - pi^2/6), sigdigits=1)"
   ]
  },
  {
   "cell_type": "code",
   "execution_count": null,
   "id": "74855ab4-1fdc-4d13-899c-94bd0d48ad06",
   "metadata": {},
   "outputs": [],
   "source": [
    "\n",
    "function myrichardson(N)\n",
    "    s1 = mybasel(N)\n",
    "    s2 = mybasel(2*N)\n",
    "    return 2*s2 - s1\n",
    "end"
   ]
  },
  {
   "cell_type": "code",
   "execution_count": null,
   "id": "3ad7b418-44f4-4739-9cca-5f36d5011057",
   "metadata": {},
   "outputs": [],
   "source": [
    "\n",
    "round(abs(myrichardson(1000) - pi^2/6), sigdigits=1)"
   ]
  },
  {
   "cell_type": "code",
   "execution_count": null,
   "id": "4b43d726-0022-47dc-a4a8-c7831e45bcdf",
   "metadata": {},
   "outputs": [],
   "source": [
    "] add QuadGK"
   ]
  },
  {
   "cell_type": "code",
   "execution_count": null,
   "id": "0fa817b4-4ab8-473a-b330-f5d2ceb1aee5",
   "metadata": {},
   "outputs": [],
   "source": [
    "\n",
    "using QuadGK"
   ]
  },
  {
   "cell_type": "code",
   "execution_count": null,
   "id": "41acc9b2-da7f-4a57-a405-d4ec51f49dc5",
   "metadata": {},
   "outputs": [],
   "source": [
    "fun1(x) = 1/sqrt(x)"
   ]
  },
  {
   "cell_type": "code",
   "execution_count": null,
   "id": "7570ab4f-bbbc-47ba-bd73-da29c6c3b430",
   "metadata": {},
   "outputs": [],
   "source": [
    "\n",
    "round(quadgk(fun1, 0, 1)[1], sigdigits=5)"
   ]
  },
  {
   "cell_type": "code",
   "execution_count": null,
   "id": "b5d7a796-123a-4c24-9448-514c0c100e8c",
   "metadata": {},
   "outputs": [],
   "source": [
    "\n",
    "fun2(x) = exp(-x) * log(x)"
   ]
  },
  {
   "cell_type": "code",
   "execution_count": null,
   "id": "bdb2fb76-92c0-4073-bd76-5c249f8740da",
   "metadata": {},
   "outputs": [],
   "source": [
    "\n",
    "quadgk(fun2, 0, Inf)"
   ]
  },
  {
   "cell_type": "markdown",
   "id": "d7cf15c2-a994-4eb0-845d-7e6ae055ce58",
   "metadata": {},
   "source": [
    "\n",
    "# Euler's Method for IVP"
   ]
  },
  {
   "cell_type": "code",
   "execution_count": null,
   "id": "d2b44c86-6612-4c88-9bf1-bda6f0529e67",
   "metadata": {},
   "outputs": [],
   "source": [
    "\n",
    "\"\"\"\n",
    "    t, y = myeulers(fun, a, b, n, y1)\n",
    "\n",
    "Solve IVP y' = fun(t, y), a <= t <= b, y(a) = y1 using Euler's method.\n",
    "Use the integration step h = (b - a)/(n - 1). Return a vector of values\n",
    "of the independent variable t_i, and a vector of correspondinig values\n",
    "of the solution, y(t_i)\n",
    "\"\"\"\n",
    "function myeulers(fun, a, b, n, y1)\n",
    "    t = range(a, b, n)\n",
    "    y = zeros(n)\n",
    "    h = t[2] - t[1]\n",
    "    y[1] = y1\n",
    "    for i = 1:(n-1)\n",
    "        y[i+1] = y[i] + h * fun(t[i], y[i])\n",
    "    end\n",
    "    return t, y\n",
    "end"
   ]
  },
  {
   "cell_type": "code",
   "execution_count": null,
   "id": "a6567597-163b-4e2d-bab6-7c26e7a56175",
   "metadata": {},
   "outputs": [],
   "source": [
    "\n",
    "a = 0.0\n",
    "b = 5.0\n",
    "n = 64\n",
    "y1 = 0.0\n",
    "fun(t, y) = exp(-sin(t)) - y * cos(t)\n",
    "yexact(t) = t * exp(-sin(t))"
   ]
  },
  {
   "cell_type": "code",
   "execution_count": null,
   "id": "41204124-f465-469e-adcf-324c90a8e945",
   "metadata": {},
   "outputs": [],
   "source": [
    "\n",
    "t, y = myeulers(fun, a, b, n, y1);"
   ]
  },
  {
   "cell_type": "code",
   "execution_count": null,
   "id": "b207f146-7554-439f-83ed-b7e0f03fbcb8",
   "metadata": {},
   "outputs": [],
   "source": [
    "\n",
    "using PyPlot"
   ]
  },
  {
   "cell_type": "code",
   "execution_count": null,
   "id": "a2c549ea-8add-43ba-bdd8-3f7d3ce0b9f4",
   "metadata": {},
   "outputs": [],
   "source": [
    "\n",
    "plot(t, y, label=\"Euler's Method\", marker=\".\")\n",
    "plot(t, yexact.(t), label=\"Exact\", linestyle=\"dashed\")\n",
    "grid(true)\n",
    "legend()\n",
    "xlabel(\"t\")\n",
    "ylabel(\"y(t)\")\n",
    "title(\"Euler's Method for IVP\")"
   ]
  },
  {
   "cell_type": "code",
   "execution_count": null,
   "id": "3069fc62-b70b-4ebf-b401-6471c378ea2f",
   "metadata": {},
   "outputs": [],
   "source": [
    "\n",
    "np = 9\n",
    "hh = zeros(np)\n",
    "gerr = zeros(np)\n",
    "\n",
    "for i = 1:np\n",
    "    n = 2^(i+3)\n",
    "    t, y = myeulers(fun, a, b, n, y1)\n",
    "    hh[i] = t[2] - t[1]\n",
    "    gerr[i] = abs(yexact(b) - y[end])\n",
    "end"
   ]
  },
  {
   "cell_type": "code",
   "execution_count": null,
   "id": "8d15bcce-d816-4331-8419-f95df3126cb3",
   "metadata": {},
   "outputs": [],
   "source": [
    "\n",
    "loglog(hh, gerr, marker=\".\", label=\"Numerical Experiment\")\n",
    "loglog(hh, hh, linestyle=\"dashed\", label=L\"h\")\n",
    "grid(true)\n",
    "title(\"Global Error of Euler's Method\")\n",
    "xlabel(\"Integration Step\")\n",
    "ylabel(\"Global Error\")\n",
    "legend()"
   ]
  },
  {
   "cell_type": "code",
   "execution_count": null,
   "id": "4e4e8a60-c190-46c6-8590-f7834ba7fb81",
   "metadata": {},
   "outputs": [],
   "source": []
  }
 ],
 "metadata": {
  "kernelspec": {
   "display_name": "Julia 1.11.6",
   "language": "julia",
   "name": "julia-1.11"
  },
  "language_info": {
   "file_extension": ".jl",
   "mimetype": "application/julia",
   "name": "julia",
   "version": "1.11.6"
  }
 },
 "nbformat": 4,
 "nbformat_minor": 5
}
