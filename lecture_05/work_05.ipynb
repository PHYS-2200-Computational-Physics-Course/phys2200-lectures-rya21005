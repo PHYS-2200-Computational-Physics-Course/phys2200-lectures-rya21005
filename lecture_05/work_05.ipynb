{
 "cells": [
  {
   "cell_type": "code",
   "execution_count": 1,
   "id": "90dbdb88-9445-445d-8860-496d1f6f7e5b",
   "metadata": {},
   "outputs": [
    {
     "data": {
      "text/plain": [
       "myfib"
      ]
     },
     "execution_count": 1,
     "metadata": {},
     "output_type": "execute_result"
    }
   ],
   "source": [
    "\n",
    "\"\"\"\n",
    "    myfib(n)\n",
    "\n",
    "Calculate Fibonacci number F_n using the recurrence relation\n",
    "F_1 = 1, F_2 = 1, and F_n = F_n-1 + F_n-2 for n > 2.\n",
    "\"\"\"\n",
    "function myfib(n)\n",
    "    fc = 1\n",
    "    if n ==1\n",
    "        return fc\n",
    "    end\n",
    "end"
   ]
  },
  {
   "cell_type": "code",
   "execution_count": null,
   "id": "33fd7adf-f95a-484d-9c4c-6535472d861c",
   "metadata": {},
   "outputs": [],
   "source": []
  }
 ],
 "metadata": {
  "kernelspec": {
   "display_name": "Julia 1.11.6",
   "language": "julia",
   "name": "julia-1.11"
  },
  "language_info": {
   "file_extension": ".jl",
   "mimetype": "application/julia",
   "name": "julia",
   "version": "1.11.6"
  }
 },
 "nbformat": 4,
 "nbformat_minor": 5
}
