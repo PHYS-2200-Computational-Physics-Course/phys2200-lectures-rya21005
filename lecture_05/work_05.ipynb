{
 "cells": [
  {
   "cell_type": "code",
   "execution_count": null,
   "id": "90dbdb88-9445-445d-8860-496d1f6f7e5b",
   "metadata": {},
   "outputs": [],
   "source": [
    "\n",
    "\"\"\"\n",
    "    myfib(n)\n",
    "\n",
    "Calculate Fibonacci number F_n using the recurrence relation\n",
    "F_1 = 1, F_2 = 1, and F_n = F_n-1 + F_n-2 for n > 2.\n",
    "\"\"\"\n",
    "function myfib(n)\n",
    "    fp = 1\n",
    "    if n == 1\n",
    "        return fp\n",
    "    end\n",
    "\n",
    "    fc = 1\n",
    "    if n == 2\n",
    "        return fc\n",
    "    end\n",
    "\n",
    "    for i = 3:n\n",
    "        fn = fc + fp\n",
    "        fp = fc\n",
    "        fc = fn\n",
    "    end\n",
    "\n",
    "    return fc\n",
    "end"
   ]
  },
  {
   "cell_type": "code",
   "execution_count": null,
   "id": "33fd7adf-f95a-484d-9c4c-6535472d861c",
   "metadata": {},
   "outputs": [],
   "source": [
    "\n",
    "?myfib"
   ]
  },
  {
   "cell_type": "code",
   "execution_count": null,
   "id": "088b1d26-b6b9-4166-a68d-abd528ce66ee",
   "metadata": {},
   "outputs": [],
   "source": [
    "\n",
    "myfib.(1:10)"
   ]
  },
  {
   "cell_type": "code",
   "execution_count": null,
   "id": "7d4d215e-d6c2-4911-8be0-f5280516b4dd",
   "metadata": {},
   "outputs": [],
   "source": [
    "\n",
    "function myfib1(n)\n",
    "    if n == 1\n",
    "        return 1\n",
    "    elseif n == 2\n",
    "        return 1\n",
    "    end\n",
    "\n",
    "    return myfib(n-1) + myfib1(n-2)\n",
    "end"
   ]
  },
  {
   "cell_type": "code",
   "execution_count": null,
   "id": "d97a7cc4-13b4-4c57-9fe0-34ff6cc748b8",
   "metadata": {},
   "outputs": [],
   "source": [
    "\n",
    "myfib1.(1:11)"
   ]
  },
  {
   "cell_type": "code",
   "execution_count": null,
   "id": "4733c42f-250b-447b-858c-dce4787b0061",
   "metadata": {},
   "outputs": [],
   "source": [
    "\n",
    "@time myfib(50);"
   ]
  },
  {
   "cell_type": "code",
   "execution_count": null,
   "id": "867bdec9-b8e8-458c-ad87-ada617fe4f39",
   "metadata": {},
   "outputs": [],
   "source": [
    "\n",
    "@time myfib1(51);"
   ]
  },
  {
   "cell_type": "code",
   "execution_count": null,
   "id": "8aebec62-ddd1-45fb-a30e-1cb6b134ad60",
   "metadata": {},
   "outputs": [],
   "source": [
    "\n",
    "\"\"\"\n",
    "    myfib2(n)\n",
    "\n",
    "Calculate Fibonacci number F_n using the recurrence relation\n",
    "F_1 = 1, F_2 = 1, and F_n = F_n-1 + F_n-2 for n > 2.\n",
    "\"\"\"\n",
    "function myfib2(n)\n",
    "    fp = 1\n",
    "    if n == 1\n",
    "        return fp\n",
    "    end\n",
    "\n",
    "    fc = 1\n",
    "    if n == 2\n",
    "        return fc\n",
    "    end\n",
    "\n",
    "    for i = 3:n\n",
    "        # fn = fc + fp\n",
    "        # fp = fc\n",
    "        # fc = fn\n",
    "        fc, fp = fc + fp, fc\n",
    "    end\n",
    "\n",
    "    return fc\n",
    "end"
   ]
  },
  {
   "cell_type": "code",
   "execution_count": null,
   "id": "b30d7ca7-9791-47b3-9bf0-32d566fe4593",
   "metadata": {},
   "outputs": [],
   "source": [
    "\n",
    "myfib2.(1:11)"
   ]
  },
  {
   "cell_type": "code",
   "execution_count": null,
   "id": "1fc4b4af-a9f4-4d71-83e9-4bc0d06d2c27",
   "metadata": {},
   "outputs": [],
   "source": []
  }
 ],
 "metadata": {
  "kernelspec": {
   "display_name": "Julia 1.11.6",
   "language": "julia",
   "name": "julia-1.11"
  },
  "language_info": {
   "file_extension": ".jl",
   "mimetype": "application/julia",
   "name": "julia",
   "version": "1.11.6"
  }
 },
 "nbformat": 4,
 "nbformat_minor": 5
}
