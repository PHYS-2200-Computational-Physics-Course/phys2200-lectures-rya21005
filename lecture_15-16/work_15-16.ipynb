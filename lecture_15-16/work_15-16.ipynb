{
 "cells": [
  {
   "cell_type": "markdown",
   "id": "9d6857ca-c371-489c-8516-3160ea323e95",
   "metadata": {},
   "source": [
    "### Bouncing Ball"
   ]
  },
  {
   "cell_type": "code",
   "execution_count": null,
   "id": "cd28352f-c8ce-40ca-a7fa-333a36e0cd51",
   "metadata": {},
   "outputs": [],
   "source": [
    "\n",
    "using OrdinaryDiffEqTsit5\n",
    "using PyPlot"
   ]
  },
  {
   "cell_type": "code",
   "execution_count": null,
   "id": "9ce3074f-c479-47ef-ad6f-b420cdd769ba",
   "metadata": {},
   "outputs": [],
   "source": [
    "\n",
    "function bouncingball!(dudtau, u, G, tau)\n",
    "    dudtau[1] = u[2]\n",
    "    dudtau[2] = -G\n",
    "    return nothing\n",
    "end"
   ]
  },
  {
   "cell_type": "markdown",
   "id": "db5eae06-9cfd-4472-9838-be60a91f2199",
   "metadata": {},
   "source": [
    "Condition for collision: Y - sin(tau) = 0"
   ]
  },
  {
   "cell_type": "code",
   "execution_count": null,
   "id": "64a0b418-f022-41b1-9afe-000aa276f4a4",
   "metadata": {},
   "outputs": [],
   "source": [
    "\n",
    "function condition(u, tau, integrator)\n",
    "    u[1] - sin(tau)\n",
    "end"
   ]
  },
  {
   "cell_type": "markdown",
   "id": "40bdec03-73a7-456d-895a-4a2561786150",
   "metadata": {},
   "source": [
    "Change of the ball's velocity during the collision"
   ]
  },
  {
   "cell_type": "code",
   "execution_count": null,
   "id": "775c68e0-f0bc-43f1-a5ef-545f05be1e8f",
   "metadata": {},
   "outputs": [],
   "source": [
    "\n",
    "function affect!(integrator)\n",
    "    integrator.u[2] = -integrator.u[2] + 2*cos(integrator.t)\n",
    "end"
   ]
  },
  {
   "cell_type": "code",
   "execution_count": null,
   "id": "666108a7-c50b-49ce-a3a4-c0a71fa73c97",
   "metadata": {},
   "outputs": [],
   "source": [
    "\n",
    "cb = ContinuousCallback(condition, affect!);"
   ]
  },
  {
   "cell_type": "code",
   "execution_count": null,
   "id": "2fdf8551-a3c2-4a28-af9a-bad476fa3818",
   "metadata": {},
   "outputs": [],
   "source": [
    "\n",
    "u0 = [0.0001, 0.0]\n",
    "G = 1.0\n",
    "tspan = [0.0, 100.0];"
   ]
  },
  {
   "cell_type": "code",
   "execution_count": null,
   "id": "d8dfca77-d24b-4f70-9feb-ee0c15a7d18b",
   "metadata": {},
   "outputs": [],
   "source": [
    "\n",
    "prob = ODEProblem(bouncingball!, u0, tspan, G)"
   ]
  },
  {
   "cell_type": "code",
   "execution_count": null,
   "id": "fb893298-c398-4074-b187-85cb264f3c5b",
   "metadata": {},
   "outputs": [],
   "source": [
    "\n",
    "sol = solve(prob, Tsit5(), callback=cb, dtmax=0.1);"
   ]
  },
  {
   "cell_type": "code",
   "execution_count": null,
   "id": "526967a2-8528-4566-ab11-55b0a86abf8b",
   "metadata": {},
   "outputs": [],
   "source": [
    "\n",
    "plot(sol.t, sol[1,:], label=\"Ball\")\n",
    "plot(sol.t, sin.(sol.t), label=\"Floor\")\n",
    "grid(true)\n",
    "xlabel(\"Time\")\n",
    "ylabel(\"Height\")\n",
    "legend()\n",
    "title(\"Elastic Ball Bouncing on an Oscillating Floor\");"
   ]
  },
  {
   "cell_type": "code",
   "execution_count": null,
   "id": "2e15c540-ba9b-44b3-a526-f0135e82c562",
   "metadata": {},
   "outputs": [],
   "source": [
    "\n",
    "function energy(sol, G)\n",
    "    G * sol[1, :] .+ 0.5 .* (sol[2, :]) .^2\n",
    "end"
   ]
  },
  {
   "cell_type": "code",
   "execution_count": null,
   "id": "fccd040b-bdea-4614-bbcd-b3d6336c3b28",
   "metadata": {},
   "outputs": [],
   "source": [
    "\n",
    "en = energy(sol, G);"
   ]
  },
  {
   "cell_type": "code",
   "execution_count": null,
   "id": "80894719-f344-4d5f-a672-9ed40c8a42a6",
   "metadata": {},
   "outputs": [],
   "source": [
    "\n",
    "plot(sol.t, en)\n",
    "grid(true)\n",
    "xlabel(\"Time\")\n",
    "ylabel(\"Energy\")\n",
    "title(\"Elastic Ball Bouncing on an Oscillating Floor\")"
   ]
  },
  {
   "cell_type": "code",
   "execution_count": null,
   "id": "5fcdd413-e1f5-481b-beb8-a8941ba882bc",
   "metadata": {},
   "outputs": [],
   "source": []
  }
 ],
 "metadata": {
  "kernelspec": {
   "display_name": "Julia 1.11.6",
   "language": "julia",
   "name": "julia-1.11"
  },
  "language_info": {
   "file_extension": ".jl",
   "mimetype": "application/julia",
   "name": "julia",
   "version": "1.11.6"
  }
 },
 "nbformat": 4,
 "nbformat_minor": 5
}
