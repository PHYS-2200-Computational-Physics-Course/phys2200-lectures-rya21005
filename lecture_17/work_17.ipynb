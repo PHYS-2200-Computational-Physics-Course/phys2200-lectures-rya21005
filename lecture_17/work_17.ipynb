{
 "cells": [
  {
   "cell_type": "markdown",
   "id": "bd408297-0e1d-42aa-bc1b-be8e620796ef",
   "metadata": {},
   "source": [
    "## Hubble Law"
   ]
  },
  {
   "cell_type": "code",
   "execution_count": null,
   "id": "843f3464-2610-4919-9712-3ad66aa7d44a",
   "metadata": {},
   "outputs": [],
   "source": [
    "\n",
    "# ] add CSV"
   ]
  },
  {
   "cell_type": "code",
   "execution_count": null,
   "id": "d2894e9b-8fa9-4530-b368-5c6829739660",
   "metadata": {},
   "outputs": [],
   "source": [
    "\n",
    "# ] add DataFrames"
   ]
  },
  {
   "cell_type": "code",
   "execution_count": null,
   "id": "97884e30-443d-4042-8e29-722f033586ba",
   "metadata": {},
   "outputs": [],
   "source": [
    "\n",
    "using CSV\n",
    "using DataFrames\n",
    "using PyPlot"
   ]
  },
  {
   "cell_type": "code",
   "execution_count": null,
   "id": "47ddb830-7877-4369-9cfc-bd29dd90d859",
   "metadata": {},
   "outputs": [],
   "source": [
    "\n",
    "url = \"https://cdsarc.u-strasbg.fr/viz-bin/asu-txt?-source=J/ApJ/716/712/tableb2&-out=SN&-out=zCMB&-out=mu\""
   ]
  },
  {
   "cell_type": "code",
   "execution_count": null,
   "id": "ecf52541-d2ac-4128-8bce-d94148ecd67d",
   "metadata": {},
   "outputs": [],
   "source": [
    "\n",
    "catalog = download(url);"
   ]
  },
  {
   "cell_type": "code",
   "execution_count": null,
   "id": "52a113f2-0be9-4281-9f3e-f2a937fe29d1",
   "metadata": {},
   "outputs": [],
   "source": [
    "\n",
    "df = CSV.read(catalog, DataFrame, skipto=38, delim=' ', ignorerepeated=true,\n",
    "              types=[String, Float64, Float64], silencewarnings=true,\n",
    "              header=[\"name\", \"redshift\", \"modulus\"],)"
   ]
  },
  {
   "cell_type": "code",
   "execution_count": null,
   "id": "7ec66c13-390c-4997-909d-ba4a9d0e25d9",
   "metadata": {},
   "outputs": [],
   "source": [
    "\n",
    "dropmissing!(df)"
   ]
  },
  {
   "cell_type": "code",
   "execution_count": null,
   "id": "c1f290a3-9c0e-4bf9-9aa6-0278ee6bb05d",
   "metadata": {},
   "outputs": [],
   "source": [
    "\n",
    "dist(modulus) = 10.0 ^ (modulus / 5 - 5)"
   ]
  },
  {
   "cell_type": "code",
   "execution_count": null,
   "id": "94e1176e-62f4-4baa-8f3e-075212cc0994",
   "metadata": {},
   "outputs": [],
   "source": [
    "\n",
    "filter!(row -> row.redshift < 0.04, df);"
   ]
  },
  {
   "cell_type": "code",
   "execution_count": null,
   "id": "d71d5aa8-673e-42e8-8310-61b02d0dcab9",
   "metadata": {},
   "outputs": [],
   "source": [
    "\n",
    "sort!(df, \"modulus\");"
   ]
  },
  {
   "cell_type": "code",
   "execution_count": null,
   "id": "9a8464de-b852-46dd-89ea-111cb4c495dc",
   "metadata": {},
   "outputs": [],
   "source": [
    "\n",
    "distances = dist.(df.modulus);"
   ]
  },
  {
   "cell_type": "code",
   "execution_count": null,
   "id": "9aab6fd7-ad9a-4679-917b-67acd090d373",
   "metadata": {},
   "outputs": [],
   "source": [
    "\n",
    "plot(distances, df.redshift, \".\", label=\"measurements\")\n",
    "grid(true)\n",
    "legend()\n",
    "ylabel(\"Red Shift\")\n",
    "xlabel(\"Distance (Mpc)\");"
   ]
  },
  {
   "cell_type": "code",
   "execution_count": null,
   "id": "2a7babbd-5142-405b-845c-8d95fc8da39f",
   "metadata": {},
   "outputs": [],
   "source": []
  }
 ],
 "metadata": {
  "kernelspec": {
   "display_name": "Julia 1.11.6",
   "language": "julia",
   "name": "julia-1.11"
  },
  "language_info": {
   "file_extension": ".jl",
   "mimetype": "application/julia",
   "name": "julia",
   "version": "1.11.6"
  }
 },
 "nbformat": 4,
 "nbformat_minor": 5
}
