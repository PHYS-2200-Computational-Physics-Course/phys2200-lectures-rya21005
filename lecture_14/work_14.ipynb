{
 "cells": [
  {
   "cell_type": "markdown",
   "id": "ee9d2af7-8b73-4cb2-a7e3-54185e0fa934",
   "metadata": {},
   "source": [
    "# Double Pendulum"
   ]
  },
  {
   "cell_type": "code",
   "execution_count": null,
   "id": "84d6566b-f68a-4051-a228-631ba24b42ea",
   "metadata": {},
   "outputs": [],
   "source": [
    "\n",
    "# ] add OrdinaryDiffEqTsit5"
   ]
  },
  {
   "cell_type": "code",
   "execution_count": null,
   "id": "e9834f94-16bd-4bcb-984c-f427679db653",
   "metadata": {},
   "outputs": [],
   "source": [
    "\n",
    "# ] add Printf"
   ]
  },
  {
   "cell_type": "code",
   "execution_count": null,
   "id": "8c50ce96-e426-4548-ad7a-d630c062f017",
   "metadata": {},
   "outputs": [],
   "source": [
    "\n",
    "# ] add Colors"
   ]
  },
  {
   "cell_type": "code",
   "execution_count": null,
   "id": "c2766105-0297-462e-a069-5d9147ed9c06",
   "metadata": {},
   "outputs": [],
   "source": [
    "\n",
    "using OrdinaryDiffEqTsit5"
   ]
  },
  {
   "cell_type": "code",
   "execution_count": null,
   "id": "d1b3e70f-3579-4dda-bda1-63f775c6bd45",
   "metadata": {},
   "outputs": [],
   "source": [
    "\n",
    "using Printf"
   ]
  },
  {
   "cell_type": "code",
   "execution_count": null,
   "id": "da7e7a0c-39b4-45d6-93c6-70a3d66649aa",
   "metadata": {},
   "outputs": [],
   "source": [
    "\n",
    "using PyPlot"
   ]
  },
  {
   "cell_type": "code",
   "execution_count": null,
   "id": "07f20d72-9bb1-4748-a87b-424a495294cb",
   "metadata": {},
   "outputs": [],
   "source": [
    "\n",
    "using Colors"
   ]
  },
  {
   "cell_type": "code",
   "execution_count": null,
   "id": "5de60e23-092d-4a83-8b32-3e8abd95a081",
   "metadata": {},
   "outputs": [],
   "source": [
    "\n",
    "\"\"\"\n",
    "\n",
    "    doublependulum!(dudt, u, p, t)\n",
    "\n",
    "......\n",
    "\"\"\"\n",
    "function doublependulum!(dudt, u, p, t)\n",
    "    # unpack variables and parameters\n",
    "    theta1 = u[1]\n",
    "    theta2 = u[2]\n",
    "    dtheta1dt = u[3]\n",
    "    dtheta2dt = u[4]\n",
    "    κ, ν = p\n",
    "    \n",
    "    sn, cs = sincos(theta1 - theta2)\n",
    "    a1 = κ*cs\n",
    "    a2 = ν*cs\n",
    "    γ = 1/(1.0 - a1*a2)\n",
    "    \n",
    "    f1 = -κ*sn*dtheta2dt^2 - sin(theta1)\n",
    "    f2 =  ν*(sn*dtheta1dt^2 - ν*sin(theta2))\n",
    "\n",
    "    dudt[1] = u[3]\n",
    "    dudt[2] = u[4]\n",
    "    dudt[3] = γ*(f1 - a1*f2)\n",
    "    dudt[4] = γ*(f2 - a2*f1)\n",
    "    \n",
    "    return nothing\n",
    "end"
   ]
  },
  {
   "cell_type": "code",
   "execution_count": null,
   "id": "ee278c72-17d9-486c-8c83-f0d266a6bd34",
   "metadata": {},
   "outputs": [],
   "source": [
    "\n",
    "l1 = 1.0  # length of pendulum1\n",
    "l2 = 1.0  # length of pendulum2\n",
    "m1 = 1.0  # mass of pendulum1\n",
    "m2 = 1.0; # mass of pendulum2"
   ]
  },
  {
   "cell_type": "code",
   "execution_count": null,
   "id": "9b4ec7a0-dee8-4594-a7cf-fe4d5e12968d",
   "metadata": {},
   "outputs": [],
   "source": [
    "\n",
    "ν = l1/l2\n",
    "κ = 1 / ν * m2 / (m1 + m2)\n",
    "# Pack the parameters\n",
    "p = (κ, ν);"
   ]
  },
  {
   "cell_type": "code",
   "execution_count": null,
   "id": "564dba84-bdf4-491a-9021-79f7195922f1",
   "metadata": {},
   "outputs": [],
   "source": [
    "\n",
    "tspan = (0.0, 50.0)\n",
    "initial = [pi, pi/100, 0.0, 0.0];"
   ]
  },
  {
   "cell_type": "code",
   "execution_count": null,
   "id": "a9ebcbbd-668d-430b-9cb2-a2a04fa00257",
   "metadata": {},
   "outputs": [],
   "source": [
    "\n",
    "prob = ODEProblem(doublependulum!, initial, tspan, p);"
   ]
  },
  {
   "cell_type": "code",
   "execution_count": null,
   "id": "c674af64-cdbb-4e1a-821f-10723e9d6603",
   "metadata": {},
   "outputs": [],
   "source": [
    "\n",
    "sol = solve(prob, Tsit5(), abstol=1e-7, reltol=1e-7);"
   ]
  },
  {
   "cell_type": "code",
   "execution_count": null,
   "id": "11a4bf5e-543e-4de4-ad59-0ecb496d2d61",
   "metadata": {},
   "outputs": [],
   "source": [
    "\n",
    "np = 2001\n",
    "t = range(tspan[1], tspan[2], np)\n",
    "s1 = sol(t);"
   ]
  },
  {
   "cell_type": "code",
   "execution_count": null,
   "id": "a1d0c8da-8730-47b1-8b49-dffc7b28cc35",
   "metadata": {},
   "outputs": [],
   "source": [
    "\n",
    "theta1 = s1[1, :]\n",
    "theta2 = s1[2, :];"
   ]
  },
  {
   "cell_type": "code",
   "execution_count": null,
   "id": "06c7d400-9e5f-4d1e-880b-193bb0b69acc",
   "metadata": {},
   "outputs": [],
   "source": [
    "\n",
    "x1 = l1 .* sin.(theta1)\n",
    "y1 = -l1 .* cos.(theta1)\n",
    "x2 = x1 .+ l2 .* sin.(theta2)\n",
    "y2 = y1 .- l2 .* cos.(theta2);"
   ]
  },
  {
   "cell_type": "code",
   "execution_count": null,
   "id": "3a740ada-90d0-48f8-8372-d062e7a44a52",
   "metadata": {},
   "outputs": [],
   "source": [
    "\"\"\"\n",
    "    snapshot_ft(nt, pts_disp, xl, xr, yb, yt, t, x1, y1, x2, y2)\n",
    "\n",
    "Display the current positions (x1[nt], y1[nt]) and (x2[nt], y2(nt]), and \n",
    "the trajectories' fading tails - the most recent pts_disp points\n",
    "\"\"\"\n",
    "function snapshot_ft(nt, pts_disp, box, t, x1, y1, x2, y2)\n",
    "    nt_start = max(1, nt-pts_disp)\n",
    "    xl, xr, yb, yt = box\n",
    "    axis(\"square\")\n",
    "    xlim(xl, xr)\n",
    "    ylim(yb, yt)\n",
    "    titl = @sprintf(\"Double pendulum t = %5.2f .. %5.2f\",\n",
    "                    t[nt_start], t[nt])\n",
    "    title(titl, family=\"monospace\")\n",
    "    xlabel(L\"$x$\")\n",
    "    ylabel(L\"$y$\")\n",
    "    grid(true)\n",
    "\n",
    "    # pivot\n",
    "    plot(0.0, 0.0, color=\"black\", marker=\"x\", markersize=5.0)\n",
    "\n",
    "    # two rods\n",
    "    plot([0.0, x1[nt],x2[nt]], [0.0, y1[nt], y2[nt]], color=\"black\")\n",
    "\n",
    "    # mass 1\n",
    "    c1 = \"green\"\n",
    "    plot(x1[nt], y1[nt], color=c1, marker=\"o\", markersize=5.0)\n",
    "    \n",
    "    # mass 2\n",
    "    c2 = \"blue\"\n",
    "    plot(x2[nt], y2[nt], color=c2, marker=\"o\", markersize=5.0)\n",
    "\n",
    "    # fading tail trajectory of mass 2\n",
    "    c2p = parse(RGBA, c2)\n",
    "    for i = nt_start:nt-1\n",
    "        transp = 1.0 - ((nt-i-1)/(pts_disp-1))^2\n",
    "        cc = (c2p.r, c2p.g, c2p.b, transp)\n",
    "        plot([x2[i], x2[i+1]], [y2[i], y2[i+1]], color=cc, linewidth=0.5)\n",
    "    end\n",
    "    return nothing\n",
    "end;"
   ]
  },
  {
   "cell_type": "code",
   "execution_count": null,
   "id": "15982fc9-cb44-4adb-b133-ebeb9b45851e",
   "metadata": {},
   "outputs": [],
   "source": [
    "\n",
    "axis_lim = (l1 + l2)*1.2\n",
    "xl = -axis_lim\n",
    "xr = -xl\n",
    "yb = -axis_lim\n",
    "yt = -yb\n",
    "box = (xl, xr, yb, yt);"
   ]
  },
  {
   "cell_type": "code",
   "execution_count": null,
   "id": "7cab1daf-488e-415b-b272-2d9265bb873a",
   "metadata": {},
   "outputs": [],
   "source": [
    "\n",
    "# Define the length of the trajectory's tail\n",
    "f = 0.1                      # Fraction of displayed points\n",
    "pts_disp = round(Int, f*np)  # Number of displayed points"
   ]
  },
  {
   "cell_type": "code",
   "execution_count": null,
   "id": "f4016267-b82d-4b12-87dd-3eea0f767f6a",
   "metadata": {},
   "outputs": [],
   "source": [
    "\n",
    "fig = figure()\n",
    "for nt = 1:10:np\n",
    "    snapshot_ft(nt, pts_disp, box, t, x1, y1, x2, y2)\n",
    "    display(fig)\n",
    "    IJulia.clear_output(true)\n",
    "    clf()\n",
    "end"
   ]
  },
  {
   "cell_type": "code",
   "execution_count": null,
   "id": "2f816789-cc76-4f85-8f47-618c121eaf13",
   "metadata": {},
   "outputs": [],
   "source": []
  }
 ],
 "metadata": {
  "kernelspec": {
   "display_name": "Julia 1.11.6",
   "language": "julia",
   "name": "julia-1.11"
  },
  "language_info": {
   "file_extension": ".jl",
   "mimetype": "application/julia",
   "name": "julia",
   "version": "1.11.6"
  }
 },
 "nbformat": 4,
 "nbformat_minor": 5
}
